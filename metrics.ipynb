{
 "cells": [
  {
   "cell_type": "code",
   "execution_count": 5,
   "metadata": {},
   "outputs": [],
   "source": [
    "import re\n",
    "import os\n",
    "import glob\n",
    "import json\n",
    "import pandas as pd\n",
    "from typing import Union\n",
    "from nnautobench.utils.metrics import calculate_field_metrics"
   ]
  },
  {
   "cell_type": "code",
   "execution_count": 6,
   "metadata": {},
   "outputs": [],
   "source": [
    "results_root = \"results\"\n",
    "results_dict = {os.path.basename(path).replace(\".jsonl\", \"\"): pd.read_json(path, orient=\"records\", lines=True) for path in glob.glob(os.path.join(results_root, \"*.jsonl\"))}"
   ]
  },
  {
   "cell_type": "code",
   "execution_count": 7,
   "metadata": {},
   "outputs": [],
   "source": [
    "def normalize_text(text: str) -> str:\n",
    "    try:\n",
    "        return re.sub(r\"\\s\", \" \", re.sub(r\"\\s{2,}\", \" \", text)).strip().replace(\" / \", \" \")\n",
    "    except:\n",
    "        print(text)\n",
    "        return text\n",
    "\n",
    "def clean_string(value):\n",
    "    # if its a currency value remove the common prefix\n",
    "    value = re.sub(r'[$€£¥₹₩₽₨₦₫₴]', '', value)\n",
    "    value = value.replace(\",\", \"\").replace(\"USD\", \"\").replace(\"EUR \", \"\").replace(\"RM\", \"\")\n",
    "    return value.strip()\n",
    "\n",
    "def is_zero_tax(tax_value: Union[str, float]):\n",
    "    if isinstance(tax_value, float):\n",
    "        return tax_value == 0.0\n",
    "    if isinstance(tax_value, str):\n",
    "        try:\n",
    "            float_value = float(tax_value)\n",
    "            return float_value == 0.0\n",
    "        except ValueError:\n",
    "            return False\n",
    "    return False\n",
    "\n",
    "def compute_conf_score_approval_and_precision(predicted_field_conf_scores: dict, gt_ans: dict, pred_ans: dict, threshold: float=0.99, print_incorrect: bool=False):\n",
    "    predicted_field_conf_scores = {key: value if isinstance(value, float) else float(value) for key, value in predicted_field_conf_scores.items()}\n",
    "    gt_ans = gt_ans[\"fields\"]\n",
    "    gt_ans = {key: str(ans[\"value\"]) for key, ans in gt_ans.items()}\n",
    "    pred_ans = {key: str(ans[\"value\"]) for key, ans in pred_ans.items()}\n",
    "    total_correct_approved = 0\n",
    "    total_incorrect_approved = 0\n",
    "    all_keys = set(list(gt_ans.keys()) + list(pred_ans.keys()))\n",
    "    for field_name in all_keys:\n",
    "        if field_name not in gt_ans:\n",
    "            gt_ans[field_name] = \"\"\n",
    "        if field_name not in pred_ans:\n",
    "            pred_ans[field_name] = \"\"\n",
    "        if \"amount\" in field_name.lower() or \"total_tax\" in field_name.lower():\n",
    "            gt_ans[field_name] = clean_string(gt_ans[field_name])\n",
    "            pred_ans[field_name] = clean_string(pred_ans[field_name])\n",
    "        if \"date\" in field_name.lower():\n",
    "            pred_ans[field_name] = pred_ans[field_name].replace(\" \", \"\").replace(\"/\", \"-\").replace(\".\", \"-\").rstrip('-')\n",
    "            gt_ans[field_name] = gt_ans[field_name].replace(\" \", \"\").replace(\"/\", \"-\").replace(\".\", \"-\").rstrip('-')\n",
    "        if \"currency\" in field_name.lower():\n",
    "            pred_ans[field_name] = pred_ans[field_name].replace(\"DEM\", \"DM\").replace(\"U. S. DOLLARS\", \"$\").replace(\"US Dollars\", \"$\")\n",
    "            gt_ans[field_name] = gt_ans[field_name].replace(\"DEM\", \"DM\").replace(\"U. S. DOLLARS\", \"$\").replace(\"US Dollars\", \"$\")\n",
    "        if \"total_tax\" in field_name.lower():\n",
    "            # if the tax is 0, gt annotations does not have this sometimes\n",
    "            gt_ans[field_name] = \"\" if is_zero_tax(gt_ans[field_name]) else gt_ans[field_name]\n",
    "            pred_ans[field_name] = \"\" if is_zero_tax(pred_ans[field_name]) else pred_ans[field_name]\n",
    "            \n",
    "        predicted_conf_score = predicted_field_conf_scores.get(field_name, 0.0)\n",
    "        # print(normalize_text(gt_ans[field_name]).lower(), normalize_text(pred_ans[field_name]).lower(), predicted_conf_score)\n",
    "        if normalize_text(gt_ans[field_name]).lower() == normalize_text(pred_ans[field_name]).lower() and  predicted_conf_score > threshold: # correct and approved\n",
    "            total_correct_approved += 1\n",
    "        elif normalize_text(gt_ans[field_name]).lower() != normalize_text(pred_ans[field_name]).lower() and predicted_conf_score > threshold: # incorrect and approved\n",
    "            if print_incorrect:\n",
    "                print(field_name, predicted_conf_score)\n",
    "            total_incorrect_approved += 1\n",
    "    return total_correct_approved, total_incorrect_approved\n",
    "\n",
    "def compute_approval_rate_precision(df, threshold: float=0.85):\n",
    "    total_correct_approved = 0\n",
    "    total_incorrect_approved = 0\n",
    "    for i, row in df.iterrows():\n",
    "        predicted_field_conf_scores = json.loads(row.predicted_field_conf_scores) if isinstance(row.predicted_field_conf_scores, str) else row.predicted_field_conf_scores\n",
    "        annotation = row.annotation\n",
    "        preds = row.pred\n",
    "        approved_c, approved_i = compute_conf_score_approval_and_precision(predicted_field_conf_scores, annotation, preds, threshold=threshold)\n",
    "        total_correct_approved += approved_c\n",
    "        total_incorrect_approved += approved_i\n",
    "    \n",
    "    # print(total_correct_approved, total_incorrect_approved)\n",
    "    rate = (total_correct_approved+total_incorrect_approved)/df.total_fields.sum()\n",
    "    precision = total_correct_approved/(total_correct_approved+total_incorrect_approved) if total_correct_approved+total_incorrect_approved > 0 else -1\n",
    "    return rate, precision\n",
    "\n",
    "def compute_approval_rate_precision_grid(df, model_name: str, thresholds: list=[0.8, 0.85, 0.9, 0.95, 0.99]):\n",
    "    results = []\n",
    "    for threshold in thresholds:\n",
    "        rate, precision = compute_approval_rate_precision(df, threshold)\n",
    "        results.append({\"model_name\": model_name, \"threshold\": threshold, \"approval_rate\": rate, \"precision\": precision, \"weighted\": rate*precision})\n",
    "    return pd.DataFrame(results)\n",
    "    \n",
    "def get_weighted_accuracy(df, name):\n",
    "    total_tp = 0\n",
    "    total_fields = 0\n",
    "    for i, row in df.iterrows():\n",
    "        pred = row.pred\n",
    "        fields = row.queried_labels\n",
    "        annotation = row.annotation[\"fields\"]\n",
    "        acc_metrics = calculate_field_metrics(pred, annotation, fields)\n",
    "        total_tp += acc_metrics[\"tp\"]\n",
    "        total_fields += len(fields)\n",
    "    weighted_acc = total_tp/total_fields\n",
    "    return weighted_acc\n"
   ]
  },
  {
   "cell_type": "code",
   "execution_count": 8,
   "metadata": {},
   "outputs": [
    {
     "name": "stdout",
     "output_type": "stream",
     "text": [
      "#### claude_37_bin ####\n"
     ]
    },
    {
     "data": {
      "text/html": [
       "<div>\n",
       "<style scoped>\n",
       "    .dataframe tbody tr th:only-of-type {\n",
       "        vertical-align: middle;\n",
       "    }\n",
       "\n",
       "    .dataframe tbody tr th {\n",
       "        vertical-align: top;\n",
       "    }\n",
       "\n",
       "    .dataframe thead th {\n",
       "        text-align: right;\n",
       "    }\n",
       "</style>\n",
       "<table border=\"1\" class=\"dataframe\">\n",
       "  <thead>\n",
       "    <tr style=\"text-align: right;\">\n",
       "      <th></th>\n",
       "      <th>approval_rate</th>\n",
       "      <th>precision</th>\n",
       "      <th>weighted_acc</th>\n",
       "      <th>threshold</th>\n",
       "    </tr>\n",
       "  </thead>\n",
       "  <tbody>\n",
       "    <tr>\n",
       "      <th>claude_37_bin</th>\n",
       "      <td>0.885931</td>\n",
       "      <td>0.751577</td>\n",
       "      <td>0.80475</td>\n",
       "      <td>0.2</td>\n",
       "    </tr>\n",
       "  </tbody>\n",
       "</table>\n",
       "</div>"
      ],
      "text/plain": [
       "               approval_rate  precision  weighted_acc  threshold\n",
       "claude_37_bin       0.885931   0.751577       0.80475        0.2"
      ]
     },
     "metadata": {},
     "output_type": "display_data"
    },
    {
     "name": "stdout",
     "output_type": "stream",
     "text": [
      "#### qwen_bin ####\n"
     ]
    },
    {
     "data": {
      "text/html": [
       "<div>\n",
       "<style scoped>\n",
       "    .dataframe tbody tr th:only-of-type {\n",
       "        vertical-align: middle;\n",
       "    }\n",
       "\n",
       "    .dataframe tbody tr th {\n",
       "        vertical-align: top;\n",
       "    }\n",
       "\n",
       "    .dataframe thead th {\n",
       "        text-align: right;\n",
       "    }\n",
       "</style>\n",
       "<table border=\"1\" class=\"dataframe\">\n",
       "  <thead>\n",
       "    <tr style=\"text-align: right;\">\n",
       "      <th></th>\n",
       "      <th>approval_rate</th>\n",
       "      <th>precision</th>\n",
       "      <th>weighted_acc</th>\n",
       "      <th>threshold</th>\n",
       "    </tr>\n",
       "  </thead>\n",
       "  <tbody>\n",
       "    <tr>\n",
       "      <th>qwen_bin</th>\n",
       "      <td>0.72907</td>\n",
       "      <td>0.695573</td>\n",
       "      <td>0.781536</td>\n",
       "      <td>0.2</td>\n",
       "    </tr>\n",
       "  </tbody>\n",
       "</table>\n",
       "</div>"
      ],
      "text/plain": [
       "          approval_rate  precision  weighted_acc  threshold\n",
       "qwen_bin        0.72907   0.695573      0.781536        0.2"
      ]
     },
     "metadata": {},
     "output_type": "display_data"
    },
    {
     "name": "stdout",
     "output_type": "stream",
     "text": [
      "#### claude_35_prob ####\n"
     ]
    },
    {
     "data": {
      "text/html": [
       "<div>\n",
       "<style scoped>\n",
       "    .dataframe tbody tr th:only-of-type {\n",
       "        vertical-align: middle;\n",
       "    }\n",
       "\n",
       "    .dataframe tbody tr th {\n",
       "        vertical-align: top;\n",
       "    }\n",
       "\n",
       "    .dataframe thead th {\n",
       "        text-align: right;\n",
       "    }\n",
       "</style>\n",
       "<table border=\"1\" class=\"dataframe\">\n",
       "  <thead>\n",
       "    <tr style=\"text-align: right;\">\n",
       "      <th></th>\n",
       "      <th>approval_rate</th>\n",
       "      <th>precision</th>\n",
       "      <th>weighted_acc</th>\n",
       "      <th>threshold</th>\n",
       "    </tr>\n",
       "  </thead>\n",
       "  <tbody>\n",
       "    <tr>\n",
       "      <th>claude_35_prob</th>\n",
       "      <td>0.008659</td>\n",
       "      <td>0.895105</td>\n",
       "      <td>0.809755</td>\n",
       "      <td>0.99</td>\n",
       "    </tr>\n",
       "  </tbody>\n",
       "</table>\n",
       "</div>"
      ],
      "text/plain": [
       "                approval_rate  precision  weighted_acc  threshold\n",
       "claude_35_prob       0.008659   0.895105      0.809755       0.99"
      ]
     },
     "metadata": {},
     "output_type": "display_data"
    },
    {
     "name": "stdout",
     "output_type": "stream",
     "text": [
      "#### gemma3-27b_prob ####\n"
     ]
    },
    {
     "data": {
      "text/html": [
       "<div>\n",
       "<style scoped>\n",
       "    .dataframe tbody tr th:only-of-type {\n",
       "        vertical-align: middle;\n",
       "    }\n",
       "\n",
       "    .dataframe tbody tr th {\n",
       "        vertical-align: top;\n",
       "    }\n",
       "\n",
       "    .dataframe thead th {\n",
       "        text-align: right;\n",
       "    }\n",
       "</style>\n",
       "<table border=\"1\" class=\"dataframe\">\n",
       "  <thead>\n",
       "    <tr style=\"text-align: right;\">\n",
       "      <th></th>\n",
       "      <th>approval_rate</th>\n",
       "      <th>precision</th>\n",
       "      <th>weighted_acc</th>\n",
       "      <th>threshold</th>\n",
       "    </tr>\n",
       "  </thead>\n",
       "  <tbody>\n",
       "    <tr>\n",
       "      <th>gemma3-27b_prob</th>\n",
       "      <td>0.327363</td>\n",
       "      <td>0.816229</td>\n",
       "      <td>0.819358</td>\n",
       "      <td>0.95</td>\n",
       "    </tr>\n",
       "  </tbody>\n",
       "</table>\n",
       "</div>"
      ],
      "text/plain": [
       "                 approval_rate  precision  weighted_acc  threshold\n",
       "gemma3-27b_prob       0.327363   0.816229      0.819358       0.95"
      ]
     },
     "metadata": {},
     "output_type": "display_data"
    },
    {
     "name": "stdout",
     "output_type": "stream",
     "text": [
      "#### nanonets ####\n"
     ]
    },
    {
     "data": {
      "text/html": [
       "<div>\n",
       "<style scoped>\n",
       "    .dataframe tbody tr th:only-of-type {\n",
       "        vertical-align: middle;\n",
       "    }\n",
       "\n",
       "    .dataframe tbody tr th {\n",
       "        vertical-align: top;\n",
       "    }\n",
       "\n",
       "    .dataframe thead th {\n",
       "        text-align: right;\n",
       "    }\n",
       "</style>\n",
       "<table border=\"1\" class=\"dataframe\">\n",
       "  <thead>\n",
       "    <tr style=\"text-align: right;\">\n",
       "      <th></th>\n",
       "      <th>approval_rate</th>\n",
       "      <th>precision</th>\n",
       "      <th>weighted_acc</th>\n",
       "      <th>threshold</th>\n",
       "    </tr>\n",
       "  </thead>\n",
       "  <tbody>\n",
       "    <tr>\n",
       "      <th>nanonets</th>\n",
       "      <td>0.769818</td>\n",
       "      <td>0.975876</td>\n",
       "      <td>0.84168</td>\n",
       "      <td>0.99</td>\n",
       "    </tr>\n",
       "  </tbody>\n",
       "</table>\n",
       "</div>"
      ],
      "text/plain": [
       "          approval_rate  precision  weighted_acc  threshold\n",
       "nanonets       0.769818   0.975876       0.84168       0.99"
      ]
     },
     "metadata": {},
     "output_type": "display_data"
    },
    {
     "name": "stdout",
     "output_type": "stream",
     "text": [
      "#### qwen_25_logits ####\n"
     ]
    },
    {
     "data": {
      "text/html": [
       "<div>\n",
       "<style scoped>\n",
       "    .dataframe tbody tr th:only-of-type {\n",
       "        vertical-align: middle;\n",
       "    }\n",
       "\n",
       "    .dataframe tbody tr th {\n",
       "        vertical-align: top;\n",
       "    }\n",
       "\n",
       "    .dataframe thead th {\n",
       "        text-align: right;\n",
       "    }\n",
       "</style>\n",
       "<table border=\"1\" class=\"dataframe\">\n",
       "  <thead>\n",
       "    <tr style=\"text-align: right;\">\n",
       "      <th></th>\n",
       "      <th>approval_rate</th>\n",
       "      <th>precision</th>\n",
       "      <th>weighted_acc</th>\n",
       "      <th>threshold</th>\n",
       "    </tr>\n",
       "  </thead>\n",
       "  <tbody>\n",
       "    <tr>\n",
       "      <th>qwen_25_logits</th>\n",
       "      <td>0.340465</td>\n",
       "      <td>0.934863</td>\n",
       "      <td>0.781276</td>\n",
       "      <td>0.9999</td>\n",
       "    </tr>\n",
       "  </tbody>\n",
       "</table>\n",
       "</div>"
      ],
      "text/plain": [
       "                approval_rate  precision  weighted_acc  threshold\n",
       "qwen_25_logits       0.340465   0.934863      0.781276     0.9999"
      ]
     },
     "metadata": {},
     "output_type": "display_data"
    },
    {
     "name": "stdout",
     "output_type": "stream",
     "text": [
      "#### qwen_prob ####\n"
     ]
    },
    {
     "data": {
      "text/html": [
       "<div>\n",
       "<style scoped>\n",
       "    .dataframe tbody tr th:only-of-type {\n",
       "        vertical-align: middle;\n",
       "    }\n",
       "\n",
       "    .dataframe tbody tr th {\n",
       "        vertical-align: top;\n",
       "    }\n",
       "\n",
       "    .dataframe thead th {\n",
       "        text-align: right;\n",
       "    }\n",
       "</style>\n",
       "<table border=\"1\" class=\"dataframe\">\n",
       "  <thead>\n",
       "    <tr style=\"text-align: right;\">\n",
       "      <th></th>\n",
       "      <th>approval_rate</th>\n",
       "      <th>precision</th>\n",
       "      <th>weighted_acc</th>\n",
       "      <th>threshold</th>\n",
       "    </tr>\n",
       "  </thead>\n",
       "  <tbody>\n",
       "    <tr>\n",
       "      <th>qwen_prob</th>\n",
       "      <td>0.016047</td>\n",
       "      <td>0.726592</td>\n",
       "      <td>0.781638</td>\n",
       "      <td>0.99</td>\n",
       "    </tr>\n",
       "  </tbody>\n",
       "</table>\n",
       "</div>"
      ],
      "text/plain": [
       "           approval_rate  precision  weighted_acc  threshold\n",
       "qwen_prob       0.016047   0.726592      0.781638       0.99"
      ]
     },
     "metadata": {},
     "output_type": "display_data"
    },
    {
     "name": "stdout",
     "output_type": "stream",
     "text": [
      "#### claude_37_prob ####\n"
     ]
    },
    {
     "data": {
      "text/html": [
       "<div>\n",
       "<style scoped>\n",
       "    .dataframe tbody tr th:only-of-type {\n",
       "        vertical-align: middle;\n",
       "    }\n",
       "\n",
       "    .dataframe tbody tr th {\n",
       "        vertical-align: top;\n",
       "    }\n",
       "\n",
       "    .dataframe thead th {\n",
       "        text-align: right;\n",
       "    }\n",
       "</style>\n",
       "<table border=\"1\" class=\"dataframe\">\n",
       "  <thead>\n",
       "    <tr style=\"text-align: right;\">\n",
       "      <th></th>\n",
       "      <th>approval_rate</th>\n",
       "      <th>precision</th>\n",
       "      <th>weighted_acc</th>\n",
       "      <th>threshold</th>\n",
       "    </tr>\n",
       "  </thead>\n",
       "  <tbody>\n",
       "    <tr>\n",
       "      <th>claude_37_prob</th>\n",
       "      <td>0.006149</td>\n",
       "      <td>0.823529</td>\n",
       "      <td>0.804595</td>\n",
       "      <td>0.99</td>\n",
       "    </tr>\n",
       "  </tbody>\n",
       "</table>\n",
       "</div>"
      ],
      "text/plain": [
       "                approval_rate  precision  weighted_acc  threshold\n",
       "claude_37_prob       0.006149   0.823529      0.804595       0.99"
      ]
     },
     "metadata": {},
     "output_type": "display_data"
    },
    {
     "name": "stdout",
     "output_type": "stream",
     "text": [
      "#### gemini_consistency ####\n"
     ]
    },
    {
     "data": {
      "text/html": [
       "<div>\n",
       "<style scoped>\n",
       "    .dataframe tbody tr th:only-of-type {\n",
       "        vertical-align: middle;\n",
       "    }\n",
       "\n",
       "    .dataframe tbody tr th {\n",
       "        vertical-align: top;\n",
       "    }\n",
       "\n",
       "    .dataframe thead th {\n",
       "        text-align: right;\n",
       "    }\n",
       "</style>\n",
       "<table border=\"1\" class=\"dataframe\">\n",
       "  <thead>\n",
       "    <tr style=\"text-align: right;\">\n",
       "      <th></th>\n",
       "      <th>approval_rate</th>\n",
       "      <th>precision</th>\n",
       "      <th>weighted_acc</th>\n",
       "      <th>threshold</th>\n",
       "    </tr>\n",
       "  </thead>\n",
       "  <tbody>\n",
       "    <tr>\n",
       "      <th>gemini_consistency</th>\n",
       "      <td>0.816636</td>\n",
       "      <td>0.841551</td>\n",
       "      <td>0.8094</td>\n",
       "      <td>0.2</td>\n",
       "    </tr>\n",
       "  </tbody>\n",
       "</table>\n",
       "</div>"
      ],
      "text/plain": [
       "                    approval_rate  precision  weighted_acc  threshold\n",
       "gemini_consistency       0.816636   0.841551        0.8094        0.2"
      ]
     },
     "metadata": {},
     "output_type": "display_data"
    },
    {
     "name": "stdout",
     "output_type": "stream",
     "text": [
      "#### gpt_logits ####\n"
     ]
    },
    {
     "data": {
      "text/html": [
       "<div>\n",
       "<style scoped>\n",
       "    .dataframe tbody tr th:only-of-type {\n",
       "        vertical-align: middle;\n",
       "    }\n",
       "\n",
       "    .dataframe tbody tr th {\n",
       "        vertical-align: top;\n",
       "    }\n",
       "\n",
       "    .dataframe thead th {\n",
       "        text-align: right;\n",
       "    }\n",
       "</style>\n",
       "<table border=\"1\" class=\"dataframe\">\n",
       "  <thead>\n",
       "    <tr style=\"text-align: right;\">\n",
       "      <th></th>\n",
       "      <th>approval_rate</th>\n",
       "      <th>precision</th>\n",
       "      <th>weighted_acc</th>\n",
       "      <th>threshold</th>\n",
       "    </tr>\n",
       "  </thead>\n",
       "  <tbody>\n",
       "    <tr>\n",
       "      <th>gpt_logits</th>\n",
       "      <td>0.339804</td>\n",
       "      <td>0.948532</td>\n",
       "      <td>0.801292</td>\n",
       "      <td>0.9999</td>\n",
       "    </tr>\n",
       "  </tbody>\n",
       "</table>\n",
       "</div>"
      ],
      "text/plain": [
       "            approval_rate  precision  weighted_acc  threshold\n",
       "gpt_logits       0.339804   0.948532      0.801292     0.9999"
      ]
     },
     "metadata": {},
     "output_type": "display_data"
    },
    {
     "name": "stdout",
     "output_type": "stream",
     "text": [
      "#### pixtral_consistency ####\n"
     ]
    },
    {
     "data": {
      "text/html": [
       "<div>\n",
       "<style scoped>\n",
       "    .dataframe tbody tr th:only-of-type {\n",
       "        vertical-align: middle;\n",
       "    }\n",
       "\n",
       "    .dataframe tbody tr th {\n",
       "        vertical-align: top;\n",
       "    }\n",
       "\n",
       "    .dataframe thead th {\n",
       "        text-align: right;\n",
       "    }\n",
       "</style>\n",
       "<table border=\"1\" class=\"dataframe\">\n",
       "  <thead>\n",
       "    <tr style=\"text-align: right;\">\n",
       "      <th></th>\n",
       "      <th>approval_rate</th>\n",
       "      <th>precision</th>\n",
       "      <th>weighted_acc</th>\n",
       "      <th>threshold</th>\n",
       "    </tr>\n",
       "  </thead>\n",
       "  <tbody>\n",
       "    <tr>\n",
       "      <th>pixtral_consistency</th>\n",
       "      <td>0.523946</td>\n",
       "      <td>0.885072</td>\n",
       "      <td>0.762599</td>\n",
       "      <td>0.2</td>\n",
       "    </tr>\n",
       "  </tbody>\n",
       "</table>\n",
       "</div>"
      ],
      "text/plain": [
       "                     approval_rate  precision  weighted_acc  threshold\n",
       "pixtral_consistency       0.523946   0.885072      0.762599        0.2"
      ]
     },
     "metadata": {},
     "output_type": "display_data"
    },
    {
     "name": "stdout",
     "output_type": "stream",
     "text": [
      "#### claude_35_bin ####\n"
     ]
    },
    {
     "data": {
      "text/html": [
       "<div>\n",
       "<style scoped>\n",
       "    .dataframe tbody tr th:only-of-type {\n",
       "        vertical-align: middle;\n",
       "    }\n",
       "\n",
       "    .dataframe tbody tr th {\n",
       "        vertical-align: top;\n",
       "    }\n",
       "\n",
       "    .dataframe thead th {\n",
       "        text-align: right;\n",
       "    }\n",
       "</style>\n",
       "<table border=\"1\" class=\"dataframe\">\n",
       "  <thead>\n",
       "    <tr style=\"text-align: right;\">\n",
       "      <th></th>\n",
       "      <th>approval_rate</th>\n",
       "      <th>precision</th>\n",
       "      <th>weighted_acc</th>\n",
       "      <th>threshold</th>\n",
       "    </tr>\n",
       "  </thead>\n",
       "  <tbody>\n",
       "    <tr>\n",
       "      <th>claude_35_bin</th>\n",
       "      <td>0.886949</td>\n",
       "      <td>0.770471</td>\n",
       "      <td>0.80899</td>\n",
       "      <td>0.2</td>\n",
       "    </tr>\n",
       "  </tbody>\n",
       "</table>\n",
       "</div>"
      ],
      "text/plain": [
       "               approval_rate  precision  weighted_acc  threshold\n",
       "claude_35_bin       0.886949   0.770471       0.80899        0.2"
      ]
     },
     "metadata": {},
     "output_type": "display_data"
    },
    {
     "name": "stdout",
     "output_type": "stream",
     "text": [
      "#### gpt4o_prob ####\n"
     ]
    },
    {
     "data": {
      "text/html": [
       "<div>\n",
       "<style scoped>\n",
       "    .dataframe tbody tr th:only-of-type {\n",
       "        vertical-align: middle;\n",
       "    }\n",
       "\n",
       "    .dataframe tbody tr th {\n",
       "        vertical-align: top;\n",
       "    }\n",
       "\n",
       "    .dataframe thead th {\n",
       "        text-align: right;\n",
       "    }\n",
       "</style>\n",
       "<table border=\"1\" class=\"dataframe\">\n",
       "  <thead>\n",
       "    <tr style=\"text-align: right;\">\n",
       "      <th></th>\n",
       "      <th>approval_rate</th>\n",
       "      <th>precision</th>\n",
       "      <th>weighted_acc</th>\n",
       "      <th>threshold</th>\n",
       "    </tr>\n",
       "  </thead>\n",
       "  <tbody>\n",
       "    <tr>\n",
       "      <th>gpt4o_prob</th>\n",
       "      <td>0.032634</td>\n",
       "      <td>0.801105</td>\n",
       "      <td>0.801905</td>\n",
       "      <td>0.99</td>\n",
       "    </tr>\n",
       "  </tbody>\n",
       "</table>\n",
       "</div>"
      ],
      "text/plain": [
       "            approval_rate  precision  weighted_acc  threshold\n",
       "gpt4o_prob       0.032634   0.801105      0.801905       0.99"
      ]
     },
     "metadata": {},
     "output_type": "display_data"
    },
    {
     "name": "stdout",
     "output_type": "stream",
     "text": [
      "#### gpt_4o_consistency ####\n"
     ]
    },
    {
     "data": {
      "text/html": [
       "<div>\n",
       "<style scoped>\n",
       "    .dataframe tbody tr th:only-of-type {\n",
       "        vertical-align: middle;\n",
       "    }\n",
       "\n",
       "    .dataframe tbody tr th {\n",
       "        vertical-align: top;\n",
       "    }\n",
       "\n",
       "    .dataframe thead th {\n",
       "        text-align: right;\n",
       "    }\n",
       "</style>\n",
       "<table border=\"1\" class=\"dataframe\">\n",
       "  <thead>\n",
       "    <tr style=\"text-align: right;\">\n",
       "      <th></th>\n",
       "      <th>approval_rate</th>\n",
       "      <th>precision</th>\n",
       "      <th>weighted_acc</th>\n",
       "      <th>threshold</th>\n",
       "    </tr>\n",
       "  </thead>\n",
       "  <tbody>\n",
       "    <tr>\n",
       "      <th>gpt_4o_consistency</th>\n",
       "      <td>0.74722</td>\n",
       "      <td>0.920856</td>\n",
       "      <td>0.798787</td>\n",
       "      <td>0.2</td>\n",
       "    </tr>\n",
       "  </tbody>\n",
       "</table>\n",
       "</div>"
      ],
      "text/plain": [
       "                    approval_rate  precision  weighted_acc  threshold\n",
       "gpt_4o_consistency        0.74722   0.920856      0.798787        0.2"
      ]
     },
     "metadata": {},
     "output_type": "display_data"
    },
    {
     "name": "stdout",
     "output_type": "stream",
     "text": [
      "#### claude_35_consistency ####\n"
     ]
    },
    {
     "data": {
      "text/html": [
       "<div>\n",
       "<style scoped>\n",
       "    .dataframe tbody tr th:only-of-type {\n",
       "        vertical-align: middle;\n",
       "    }\n",
       "\n",
       "    .dataframe tbody tr th {\n",
       "        vertical-align: top;\n",
       "    }\n",
       "\n",
       "    .dataframe thead th {\n",
       "        text-align: right;\n",
       "    }\n",
       "</style>\n",
       "<table border=\"1\" class=\"dataframe\">\n",
       "  <thead>\n",
       "    <tr style=\"text-align: right;\">\n",
       "      <th></th>\n",
       "      <th>approval_rate</th>\n",
       "      <th>precision</th>\n",
       "      <th>weighted_acc</th>\n",
       "      <th>threshold</th>\n",
       "    </tr>\n",
       "  </thead>\n",
       "  <tbody>\n",
       "    <tr>\n",
       "      <th>claude_35_consistency</th>\n",
       "      <td>0.882812</td>\n",
       "      <td>0.797443</td>\n",
       "      <td>0.792009</td>\n",
       "      <td>0.2</td>\n",
       "    </tr>\n",
       "  </tbody>\n",
       "</table>\n",
       "</div>"
      ],
      "text/plain": [
       "                       approval_rate  precision  weighted_acc  threshold\n",
       "claude_35_consistency       0.882812   0.797443      0.792009        0.2"
      ]
     },
     "metadata": {},
     "output_type": "display_data"
    },
    {
     "name": "stdout",
     "output_type": "stream",
     "text": [
      "#### pixtral_prob ####\n"
     ]
    },
    {
     "data": {
      "text/html": [
       "<div>\n",
       "<style scoped>\n",
       "    .dataframe tbody tr th:only-of-type {\n",
       "        vertical-align: middle;\n",
       "    }\n",
       "\n",
       "    .dataframe tbody tr th {\n",
       "        vertical-align: top;\n",
       "    }\n",
       "\n",
       "    .dataframe thead th {\n",
       "        text-align: right;\n",
       "    }\n",
       "</style>\n",
       "<table border=\"1\" class=\"dataframe\">\n",
       "  <thead>\n",
       "    <tr style=\"text-align: right;\">\n",
       "      <th></th>\n",
       "      <th>approval_rate</th>\n",
       "      <th>precision</th>\n",
       "      <th>weighted_acc</th>\n",
       "      <th>threshold</th>\n",
       "    </tr>\n",
       "  </thead>\n",
       "  <tbody>\n",
       "    <tr>\n",
       "      <th>pixtral_prob</th>\n",
       "      <td>0.151992</td>\n",
       "      <td>0.710953</td>\n",
       "      <td>0.811425</td>\n",
       "      <td>0.99</td>\n",
       "    </tr>\n",
       "  </tbody>\n",
       "</table>\n",
       "</div>"
      ],
      "text/plain": [
       "              approval_rate  precision  weighted_acc  threshold\n",
       "pixtral_prob       0.151992   0.710953      0.811425       0.99"
      ]
     },
     "metadata": {},
     "output_type": "display_data"
    },
    {
     "name": "stdout",
     "output_type": "stream",
     "text": [
      "#### gpt4o_bin ####\n"
     ]
    },
    {
     "data": {
      "text/html": [
       "<div>\n",
       "<style scoped>\n",
       "    .dataframe tbody tr th:only-of-type {\n",
       "        vertical-align: middle;\n",
       "    }\n",
       "\n",
       "    .dataframe tbody tr th {\n",
       "        vertical-align: top;\n",
       "    }\n",
       "\n",
       "    .dataframe thead th {\n",
       "        text-align: right;\n",
       "    }\n",
       "</style>\n",
       "<table border=\"1\" class=\"dataframe\">\n",
       "  <thead>\n",
       "    <tr style=\"text-align: right;\">\n",
       "      <th></th>\n",
       "      <th>approval_rate</th>\n",
       "      <th>precision</th>\n",
       "      <th>weighted_acc</th>\n",
       "      <th>threshold</th>\n",
       "    </tr>\n",
       "  </thead>\n",
       "  <tbody>\n",
       "    <tr>\n",
       "      <th>gpt4o_bin</th>\n",
       "      <td>0.86736</td>\n",
       "      <td>0.760186</td>\n",
       "      <td>0.801798</td>\n",
       "      <td>0.2</td>\n",
       "    </tr>\n",
       "  </tbody>\n",
       "</table>\n",
       "</div>"
      ],
      "text/plain": [
       "           approval_rate  precision  weighted_acc  threshold\n",
       "gpt4o_bin        0.86736   0.760186      0.801798        0.2"
      ]
     },
     "metadata": {},
     "output_type": "display_data"
    },
    {
     "name": "stdout",
     "output_type": "stream",
     "text": [
      "#### pixtral_bin ####\n"
     ]
    },
    {
     "data": {
      "text/html": [
       "<div>\n",
       "<style scoped>\n",
       "    .dataframe tbody tr th:only-of-type {\n",
       "        vertical-align: middle;\n",
       "    }\n",
       "\n",
       "    .dataframe tbody tr th {\n",
       "        vertical-align: top;\n",
       "    }\n",
       "\n",
       "    .dataframe thead th {\n",
       "        text-align: right;\n",
       "    }\n",
       "</style>\n",
       "<table border=\"1\" class=\"dataframe\">\n",
       "  <thead>\n",
       "    <tr style=\"text-align: right;\">\n",
       "      <th></th>\n",
       "      <th>approval_rate</th>\n",
       "      <th>precision</th>\n",
       "      <th>weighted_acc</th>\n",
       "      <th>threshold</th>\n",
       "    </tr>\n",
       "  </thead>\n",
       "  <tbody>\n",
       "    <tr>\n",
       "      <th>pixtral_bin</th>\n",
       "      <td>0.559709</td>\n",
       "      <td>0.826157</td>\n",
       "      <td>0.810744</td>\n",
       "      <td>0.2</td>\n",
       "    </tr>\n",
       "  </tbody>\n",
       "</table>\n",
       "</div>"
      ],
      "text/plain": [
       "             approval_rate  precision  weighted_acc  threshold\n",
       "pixtral_bin       0.559709   0.826157      0.810744        0.2"
      ]
     },
     "metadata": {},
     "output_type": "display_data"
    },
    {
     "name": "stdout",
     "output_type": "stream",
     "text": [
      "#### gemini_bin ####\n"
     ]
    },
    {
     "data": {
      "text/html": [
       "<div>\n",
       "<style scoped>\n",
       "    .dataframe tbody tr th:only-of-type {\n",
       "        vertical-align: middle;\n",
       "    }\n",
       "\n",
       "    .dataframe tbody tr th {\n",
       "        vertical-align: top;\n",
       "    }\n",
       "\n",
       "    .dataframe thead th {\n",
       "        text-align: right;\n",
       "    }\n",
       "</style>\n",
       "<table border=\"1\" class=\"dataframe\">\n",
       "  <thead>\n",
       "    <tr style=\"text-align: right;\">\n",
       "      <th></th>\n",
       "      <th>approval_rate</th>\n",
       "      <th>precision</th>\n",
       "      <th>weighted_acc</th>\n",
       "      <th>threshold</th>\n",
       "    </tr>\n",
       "  </thead>\n",
       "  <tbody>\n",
       "    <tr>\n",
       "      <th>gemini_bin</th>\n",
       "      <td>0.699621</td>\n",
       "      <td>0.718839</td>\n",
       "      <td>0.80964</td>\n",
       "      <td>0.2</td>\n",
       "    </tr>\n",
       "  </tbody>\n",
       "</table>\n",
       "</div>"
      ],
      "text/plain": [
       "            approval_rate  precision  weighted_acc  threshold\n",
       "gemini_bin       0.699621   0.718839       0.80964        0.2"
      ]
     },
     "metadata": {},
     "output_type": "display_data"
    },
    {
     "name": "stdout",
     "output_type": "stream",
     "text": [
      "#### gemini_prob ####\n"
     ]
    },
    {
     "data": {
      "text/html": [
       "<div>\n",
       "<style scoped>\n",
       "    .dataframe tbody tr th:only-of-type {\n",
       "        vertical-align: middle;\n",
       "    }\n",
       "\n",
       "    .dataframe tbody tr th {\n",
       "        vertical-align: top;\n",
       "    }\n",
       "\n",
       "    .dataframe thead th {\n",
       "        text-align: right;\n",
       "    }\n",
       "</style>\n",
       "<table border=\"1\" class=\"dataframe\">\n",
       "  <thead>\n",
       "    <tr style=\"text-align: right;\">\n",
       "      <th></th>\n",
       "      <th>approval_rate</th>\n",
       "      <th>precision</th>\n",
       "      <th>weighted_acc</th>\n",
       "      <th>threshold</th>\n",
       "    </tr>\n",
       "  </thead>\n",
       "  <tbody>\n",
       "    <tr>\n",
       "      <th>gemini_prob</th>\n",
       "      <td>0.080774</td>\n",
       "      <td>0.938244</td>\n",
       "      <td>0.807888</td>\n",
       "      <td>0.99</td>\n",
       "    </tr>\n",
       "  </tbody>\n",
       "</table>\n",
       "</div>"
      ],
      "text/plain": [
       "             approval_rate  precision  weighted_acc  threshold\n",
       "gemini_prob       0.080774   0.938244      0.807888       0.99"
      ]
     },
     "metadata": {},
     "output_type": "display_data"
    },
    {
     "name": "stdout",
     "output_type": "stream",
     "text": [
      "#### gemma3-27b_yesno ####\n"
     ]
    },
    {
     "data": {
      "text/html": [
       "<div>\n",
       "<style scoped>\n",
       "    .dataframe tbody tr th:only-of-type {\n",
       "        vertical-align: middle;\n",
       "    }\n",
       "\n",
       "    .dataframe tbody tr th {\n",
       "        vertical-align: top;\n",
       "    }\n",
       "\n",
       "    .dataframe thead th {\n",
       "        text-align: right;\n",
       "    }\n",
       "</style>\n",
       "<table border=\"1\" class=\"dataframe\">\n",
       "  <thead>\n",
       "    <tr style=\"text-align: right;\">\n",
       "      <th></th>\n",
       "      <th>approval_rate</th>\n",
       "      <th>precision</th>\n",
       "      <th>weighted_acc</th>\n",
       "      <th>threshold</th>\n",
       "    </tr>\n",
       "  </thead>\n",
       "  <tbody>\n",
       "    <tr>\n",
       "      <th>gemma3-27b_yesno</th>\n",
       "      <td>0.537472</td>\n",
       "      <td>0.664318</td>\n",
       "      <td>0.819006</td>\n",
       "      <td>0.2</td>\n",
       "    </tr>\n",
       "  </tbody>\n",
       "</table>\n",
       "</div>"
      ],
      "text/plain": [
       "                  approval_rate  precision  weighted_acc  threshold\n",
       "gemma3-27b_yesno       0.537472   0.664318      0.819006        0.2"
      ]
     },
     "metadata": {},
     "output_type": "display_data"
    },
    {
     "name": "stdout",
     "output_type": "stream",
     "text": [
      "#### gemma3-27b_consistency ####\n"
     ]
    },
    {
     "data": {
      "text/html": [
       "<div>\n",
       "<style scoped>\n",
       "    .dataframe tbody tr th:only-of-type {\n",
       "        vertical-align: middle;\n",
       "    }\n",
       "\n",
       "    .dataframe tbody tr th {\n",
       "        vertical-align: top;\n",
       "    }\n",
       "\n",
       "    .dataframe thead th {\n",
       "        text-align: right;\n",
       "    }\n",
       "</style>\n",
       "<table border=\"1\" class=\"dataframe\">\n",
       "  <thead>\n",
       "    <tr style=\"text-align: right;\">\n",
       "      <th></th>\n",
       "      <th>approval_rate</th>\n",
       "      <th>precision</th>\n",
       "      <th>weighted_acc</th>\n",
       "      <th>threshold</th>\n",
       "    </tr>\n",
       "  </thead>\n",
       "  <tbody>\n",
       "    <tr>\n",
       "      <th>gemma3-27b_consistency</th>\n",
       "      <td>0.637414</td>\n",
       "      <td>0.832483</td>\n",
       "      <td>0.813889</td>\n",
       "      <td>0.2</td>\n",
       "    </tr>\n",
       "  </tbody>\n",
       "</table>\n",
       "</div>"
      ],
      "text/plain": [
       "                        approval_rate  precision  weighted_acc  threshold\n",
       "gemma3-27b_consistency       0.637414   0.832483      0.813889        0.2"
      ]
     },
     "metadata": {},
     "output_type": "display_data"
    },
    {
     "name": "stdout",
     "output_type": "stream",
     "text": [
      "#### qwen_25_consistency ####\n"
     ]
    },
    {
     "data": {
      "text/html": [
       "<div>\n",
       "<style scoped>\n",
       "    .dataframe tbody tr th:only-of-type {\n",
       "        vertical-align: middle;\n",
       "    }\n",
       "\n",
       "    .dataframe tbody tr th {\n",
       "        vertical-align: top;\n",
       "    }\n",
       "\n",
       "    .dataframe thead th {\n",
       "        text-align: right;\n",
       "    }\n",
       "</style>\n",
       "<table border=\"1\" class=\"dataframe\">\n",
       "  <thead>\n",
       "    <tr style=\"text-align: right;\">\n",
       "      <th></th>\n",
       "      <th>approval_rate</th>\n",
       "      <th>precision</th>\n",
       "      <th>weighted_acc</th>\n",
       "      <th>threshold</th>\n",
       "    </tr>\n",
       "  </thead>\n",
       "  <tbody>\n",
       "    <tr>\n",
       "      <th>qwen_25_consistency</th>\n",
       "      <td>0.762065</td>\n",
       "      <td>0.893533</td>\n",
       "      <td>0.782299</td>\n",
       "      <td>0.2</td>\n",
       "    </tr>\n",
       "  </tbody>\n",
       "</table>\n",
       "</div>"
      ],
      "text/plain": [
       "                     approval_rate  precision  weighted_acc  threshold\n",
       "qwen_25_consistency       0.762065   0.893533      0.782299        0.2"
      ]
     },
     "metadata": {},
     "output_type": "display_data"
    }
   ],
   "source": [
    "for name, result_df in results_dict.items():\n",
    "    print(f\"#### {name} ####\")\n",
    "    precision_thresholds = [0.2, 0.3, 0.4, 0.5, 0.6, 0.7, 0.8, 0.9, 0.95, 0.99, 0.9999]\n",
    "    if \"nanonets\" in name:\n",
    "        precision_thresholds = [0.99] # model is calibrated on 0.99\n",
    "    prec_results = compute_approval_rate_precision_grid(result_df, name, precision_thresholds)\n",
    "    max_prec_results = prec_results.sort_values(by=\"precision\", ascending=False).iloc[0]\n",
    "    weighted_acc_results = get_weighted_accuracy(result_df, name)\n",
    "    results_df = pd.DataFrame(\n",
    "        {\n",
    "            \"approval_rate\": max_prec_results[\"approval_rate\"], \n",
    "            \"precision\": max_prec_results[\"precision\"], \n",
    "            \"weighted_acc\": weighted_acc_results, \n",
    "            \"threshold\": max_prec_results[\"threshold\"]\n",
    "        }, index=[name]\n",
    "    )\n",
    "    display(results_df)"
   ]
  },
  {
   "cell_type": "markdown",
   "metadata": {},
   "source": [
    "#### ------------------- End of Code ------------------- ####"
   ]
  }
 ],
 "metadata": {
  "kernelspec": {
   "display_name": "test",
   "language": "python",
   "name": "python3"
  },
  "language_info": {
   "codemirror_mode": {
    "name": "ipython",
    "version": 3
   },
   "file_extension": ".py",
   "mimetype": "text/x-python",
   "name": "python",
   "nbconvert_exporter": "python",
   "pygments_lexer": "ipython3",
   "version": "3.13.1"
  }
 },
 "nbformat": 4,
 "nbformat_minor": 2
}
